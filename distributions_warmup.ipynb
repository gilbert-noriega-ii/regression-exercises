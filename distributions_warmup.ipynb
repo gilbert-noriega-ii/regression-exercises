{
 "cells": [
  {
   "cell_type": "markdown",
   "metadata": {},
   "source": [
    "### Sept. 29, 2020"
   ]
  },
  {
   "cell_type": "markdown",
   "metadata": {},
   "source": [
    "It's another day at the office at Big Research Co ™. You look up from your laptop and see a woman in a lab coat standing in front of your desk.\n",
    "\n",
    "\"I need some help\" she says. \"We lost some subjects from the trial.\"\n",
    "\n",
    "She notices a curious look on your face.\n",
    "\n",
    "\"Not like that, they just ran away. We didn't lock the doors soon enough.\"\n",
    "\n",
    "\"Anyway, there's probably like a 70%, no maybe 80%, no, let's say 90% chance that a given subject will stick around, and I need to run the study again with 10, or 20 subjects. We need to gather enough data on them to justify the cost, so I need you to figure out what are the probabilities are that at least half of them stick around, only 1 person leaves, and that all the subjects stay.\"\n",
    "\n",
    "She sees you start to form another question and cuts you off.\n",
    "\n",
    "\"Don't ask. You really don't want to know.\""
   ]
  },
  {
   "cell_type": "markdown",
   "metadata": {},
   "source": [
    "- What probability distribution would you use to model the scenario outlined above?"
   ]
  },
  {
   "cell_type": "markdown",
   "metadata": {},
   "source": [
    "Binomial Distribution because we are given a number of trials and a probability with only two outcomes possible, staying or leaving."
   ]
  },
  {
   "cell_type": "markdown",
   "metadata": {},
   "source": [
    "- Calculate all the requested probabilities. Use all the possible combinations of subject count and chance that a subject will stay in the study."
   ]
  },
  {
   "cell_type": "code",
   "execution_count": 85,
   "metadata": {},
   "outputs": [],
   "source": [
    "import itertools as it\n",
    "from scipy import stats\n",
    "import pandas as pd\n",
    "import numpy as np\n",
    "\n",
    "import matplotlib.pyplot as plt\n",
    "import seaborn as sns"
   ]
  },
  {
   "cell_type": "code",
   "execution_count": 63,
   "metadata": {},
   "outputs": [
    {
     "data": {
      "text/html": [
       "<div>\n",
       "<style scoped>\n",
       "    .dataframe tbody tr th:only-of-type {\n",
       "        vertical-align: middle;\n",
       "    }\n",
       "\n",
       "    .dataframe tbody tr th {\n",
       "        vertical-align: top;\n",
       "    }\n",
       "\n",
       "    .dataframe thead th {\n",
       "        text-align: right;\n",
       "    }\n",
       "</style>\n",
       "<table border=\"1\" class=\"dataframe\">\n",
       "  <thead>\n",
       "    <tr style=\"text-align: right;\">\n",
       "      <th></th>\n",
       "      <th>0</th>\n",
       "      <th>1</th>\n",
       "      <th>2</th>\n",
       "    </tr>\n",
       "  </thead>\n",
       "  <tbody>\n",
       "    <tr>\n",
       "      <th>0</th>\n",
       "      <td>0.952651</td>\n",
       "      <td>0.000144</td>\n",
       "      <td>0.028248</td>\n",
       "    </tr>\n",
       "  </tbody>\n",
       "</table>\n",
       "</div>"
      ],
      "text/plain": [
       "          0         1         2\n",
       "0  0.952651  0.000144  0.028248"
      ]
     },
     "execution_count": 63,
     "metadata": {},
     "output_type": "execute_result"
    }
   ],
   "source": [
    "row1 = pd.DataFrame([binom(10, .7).sf(4), binom(10, .7).cdf(1), binom(10, .7).pmf(10)]).T\n",
    "row1"
   ]
  },
  {
   "cell_type": "code",
   "execution_count": 66,
   "metadata": {},
   "outputs": [],
   "source": [
    "row2 = pd.DataFrame([binom(10, .8).sf(4), binom(10, .8).cdf(1), binom(10, .8).pmf(10)]).T"
   ]
  },
  {
   "cell_type": "code",
   "execution_count": 67,
   "metadata": {},
   "outputs": [],
   "source": [
    "row3 = pd.DataFrame([binom(10, .9).sf(4), binom(10, .9).cdf(1), binom(10, .9).pmf(10)]).T"
   ]
  },
  {
   "cell_type": "code",
   "execution_count": 68,
   "metadata": {},
   "outputs": [],
   "source": [
    "row4 = pd.DataFrame([binom(20, .7).sf(9), binom(20, .7).cdf(1), binom(20, .7).pmf(20)]).T"
   ]
  },
  {
   "cell_type": "code",
   "execution_count": 69,
   "metadata": {},
   "outputs": [],
   "source": [
    "row5 = pd.DataFrame([binom(20, .8).sf(9), binom(20, .8).cdf(1), binom(20, .8).pmf(20)]).T"
   ]
  },
  {
   "cell_type": "code",
   "execution_count": 70,
   "metadata": {},
   "outputs": [],
   "source": [
    "row6 = pd.DataFrame([binom(20, .9).sf(9), binom(20, .9).cdf(1), binom(20, .9).pmf(10)]).T"
   ]
  },
  {
   "cell_type": "code",
   "execution_count": 83,
   "metadata": {},
   "outputs": [],
   "source": [
    "rows10 = [row1, row2, row3]\n",
    "rows20 = [row4, row5, row6]"
   ]
  },
  {
   "cell_type": "markdown",
   "metadata": {},
   "source": [
    "- Bonus: visualize the requested probabilities."
   ]
  },
  {
   "cell_type": "markdown",
   "metadata": {},
   "source": [
    "Hints\n",
    "\n",
    "    - Use scipy.stats for this.\n",
    "    - A fancy list comprehension or the itertools module can help you find all the possible combinations.\n",
    "    - Consider storing the results of your calculations in a data frame."
   ]
  },
  {
   "cell_type": "code",
   "execution_count": null,
   "metadata": {},
   "outputs": [],
   "source": []
  },
  {
   "cell_type": "code",
   "execution_count": null,
   "metadata": {},
   "outputs": [],
   "source": []
  },
  {
   "cell_type": "code",
   "execution_count": null,
   "metadata": {},
   "outputs": [],
   "source": []
  },
  {
   "cell_type": "markdown",
   "metadata": {},
   "source": [
    "# Solutions"
   ]
  },
  {
   "cell_type": "code",
   "execution_count": 86,
   "metadata": {},
   "outputs": [],
   "source": [
    "ps = [.7, .8, .9]\n",
    "ns = [10, 20]\n",
    "ks = range(21)"
   ]
  },
  {
   "cell_type": "code",
   "execution_count": 87,
   "metadata": {},
   "outputs": [
    {
     "data": {
      "text/plain": [
       "[(0.7, 10, 0),\n",
       " (0.7, 10, 1),\n",
       " (0.7, 10, 2),\n",
       " (0.7, 10, 3),\n",
       " (0.7, 10, 4),\n",
       " (0.7, 10, 5),\n",
       " (0.7, 10, 6),\n",
       " (0.7, 10, 7),\n",
       " (0.7, 10, 8),\n",
       " (0.7, 10, 9),\n",
       " (0.7, 10, 10),\n",
       " (0.7, 10, 11),\n",
       " (0.7, 10, 12),\n",
       " (0.7, 10, 13),\n",
       " (0.7, 10, 14),\n",
       " (0.7, 10, 15),\n",
       " (0.7, 10, 16),\n",
       " (0.7, 10, 17),\n",
       " (0.7, 10, 18),\n",
       " (0.7, 10, 19),\n",
       " (0.7, 10, 20),\n",
       " (0.7, 20, 0),\n",
       " (0.7, 20, 1),\n",
       " (0.7, 20, 2),\n",
       " (0.7, 20, 3),\n",
       " (0.7, 20, 4),\n",
       " (0.7, 20, 5),\n",
       " (0.7, 20, 6),\n",
       " (0.7, 20, 7),\n",
       " (0.7, 20, 8),\n",
       " (0.7, 20, 9),\n",
       " (0.7, 20, 10),\n",
       " (0.7, 20, 11),\n",
       " (0.7, 20, 12),\n",
       " (0.7, 20, 13),\n",
       " (0.7, 20, 14),\n",
       " (0.7, 20, 15),\n",
       " (0.7, 20, 16),\n",
       " (0.7, 20, 17),\n",
       " (0.7, 20, 18),\n",
       " (0.7, 20, 19),\n",
       " (0.7, 20, 20),\n",
       " (0.8, 10, 0),\n",
       " (0.8, 10, 1),\n",
       " (0.8, 10, 2),\n",
       " (0.8, 10, 3),\n",
       " (0.8, 10, 4),\n",
       " (0.8, 10, 5),\n",
       " (0.8, 10, 6),\n",
       " (0.8, 10, 7),\n",
       " (0.8, 10, 8),\n",
       " (0.8, 10, 9),\n",
       " (0.8, 10, 10),\n",
       " (0.8, 10, 11),\n",
       " (0.8, 10, 12),\n",
       " (0.8, 10, 13),\n",
       " (0.8, 10, 14),\n",
       " (0.8, 10, 15),\n",
       " (0.8, 10, 16),\n",
       " (0.8, 10, 17),\n",
       " (0.8, 10, 18),\n",
       " (0.8, 10, 19),\n",
       " (0.8, 10, 20),\n",
       " (0.8, 20, 0),\n",
       " (0.8, 20, 1),\n",
       " (0.8, 20, 2),\n",
       " (0.8, 20, 3),\n",
       " (0.8, 20, 4),\n",
       " (0.8, 20, 5),\n",
       " (0.8, 20, 6),\n",
       " (0.8, 20, 7),\n",
       " (0.8, 20, 8),\n",
       " (0.8, 20, 9),\n",
       " (0.8, 20, 10),\n",
       " (0.8, 20, 11),\n",
       " (0.8, 20, 12),\n",
       " (0.8, 20, 13),\n",
       " (0.8, 20, 14),\n",
       " (0.8, 20, 15),\n",
       " (0.8, 20, 16),\n",
       " (0.8, 20, 17),\n",
       " (0.8, 20, 18),\n",
       " (0.8, 20, 19),\n",
       " (0.8, 20, 20),\n",
       " (0.9, 10, 0),\n",
       " (0.9, 10, 1),\n",
       " (0.9, 10, 2),\n",
       " (0.9, 10, 3),\n",
       " (0.9, 10, 4),\n",
       " (0.9, 10, 5),\n",
       " (0.9, 10, 6),\n",
       " (0.9, 10, 7),\n",
       " (0.9, 10, 8),\n",
       " (0.9, 10, 9),\n",
       " (0.9, 10, 10),\n",
       " (0.9, 10, 11),\n",
       " (0.9, 10, 12),\n",
       " (0.9, 10, 13),\n",
       " (0.9, 10, 14),\n",
       " (0.9, 10, 15),\n",
       " (0.9, 10, 16),\n",
       " (0.9, 10, 17),\n",
       " (0.9, 10, 18),\n",
       " (0.9, 10, 19),\n",
       " (0.9, 10, 20),\n",
       " (0.9, 20, 0),\n",
       " (0.9, 20, 1),\n",
       " (0.9, 20, 2),\n",
       " (0.9, 20, 3),\n",
       " (0.9, 20, 4),\n",
       " (0.9, 20, 5),\n",
       " (0.9, 20, 6),\n",
       " (0.9, 20, 7),\n",
       " (0.9, 20, 8),\n",
       " (0.9, 20, 9),\n",
       " (0.9, 20, 10),\n",
       " (0.9, 20, 11),\n",
       " (0.9, 20, 12),\n",
       " (0.9, 20, 13),\n",
       " (0.9, 20, 14),\n",
       " (0.9, 20, 15),\n",
       " (0.9, 20, 16),\n",
       " (0.9, 20, 17),\n",
       " (0.9, 20, 18),\n",
       " (0.9, 20, 19),\n",
       " (0.9, 20, 20)]"
      ]
     },
     "execution_count": 87,
     "metadata": {},
     "output_type": "execute_result"
    }
   ],
   "source": [
    "list(it.product(ps, ns, ks))"
   ]
  },
  {
   "cell_type": "code",
   "execution_count": 99,
   "metadata": {},
   "outputs": [
    {
     "data": {
      "image/png": "[encoded data removed]",
      "text/plain": [
       "<Figure size 778.25x360 with 2 Axes>"
      ]
     },
     "metadata": {
      "needs_background": "light"
     },
     "output_type": "display_data"
    }
   ],
   "source": [
    "cdfs = [(p,n, k, stats.binom(n,p).cdf(k)) for p,n,k in it.product(ps,ns,ks)]\n",
    "df = pd.DataFrame(cdfs, columns = ['p', 'n', 'k', 'cdf(k)'])\n",
    "df.loc[(df.n == 10) & (df.k > 10), 'cdf(k)'] = np.nan\n",
    "df = df.dropna()\n",
    "sns.relplot(data=df, x='k', y='cdf(k)', col = 'n', hue = 'p')\n",
    "plt.show()"
   ]
  },
  {
   "cell_type": "code",
   "execution_count": 102,
   "metadata": {},
   "outputs": [
    {
     "name": "stdout",
     "output_type": "stream",
     "text": [
      "---\n",
      "        n = 10, p = 0.7\n",
      "        P(at least half stay) = 0.952651\n",
      "        P(one subject leaves) = 0.121061\n",
      "        P(all the subjects stay) = 0.028248\n",
      "        \n",
      "---\n",
      "        n = 20, p = 0.7\n",
      "        P(at least half stay) = 0.982855\n",
      "        P(one subject leaves) = 0.006839\n",
      "        P(all the subjects stay) = 0.000798\n",
      "        \n",
      "---\n",
      "        n = 10, p = 0.8\n",
      "        P(at least half stay) = 0.993631\n",
      "        P(one subject leaves) = 0.268435\n",
      "        P(all the subjects stay) = 0.107374\n",
      "        \n",
      "---\n",
      "        n = 20, p = 0.8\n",
      "        P(at least half stay) = 0.999437\n",
      "        P(one subject leaves) = 0.057646\n",
      "        P(all the subjects stay) = 0.011529\n",
      "        \n",
      "---\n",
      "        n = 10, p = 0.9\n",
      "        P(at least half stay) = 0.999853\n",
      "        P(one subject leaves) = 0.387420\n",
      "        P(all the subjects stay) = 0.348678\n",
      "        \n",
      "---\n",
      "        n = 20, p = 0.9\n",
      "        P(at least half stay) = 0.999999\n",
      "        P(one subject leaves) = 0.270170\n",
      "        P(all the subjects stay) = 0.121577\n",
      "        \n"
     ]
    }
   ],
   "source": [
    "ps = [.7, .8, .9]\n",
    "ns = [10, 20]\n",
    "\n",
    "for p in ps:\n",
    "    for n in ns:\n",
    "        p_at_least_half = stats.binom(n, p).sf((n/2)-1)\n",
    "        p_one_leaves = stats.binom(n, p).pmf(n-1)\n",
    "        p_all_stay = stats.binom(n, p).pmf(n)\n",
    "        print(f'''---\n",
    "        n = {n}, p = {p}\n",
    "        P(at least half stay) = {p_at_least_half:4f}\n",
    "        P(one subject leaves) = {p_one_leaves:4f}\n",
    "        P(all the subjects stay) = {p_all_stay:4f}\n",
    "        ''')\n",
    "       "
   ]
  },
  {
   "cell_type": "code",
   "execution_count": null,
   "metadata": {},
   "outputs": [],
   "source": []
  }
 ],
 "metadata": {
  "kernelspec": {
   "display_name": "Python 3",
   "language": "python",
   "name": "python3"
  },
  "language_info": {
   "codemirror_mode": {
    "name": "ipython",
    "version": 3
   },
   "file_extension": ".py",
   "mimetype": "text/x-python",
   "name": "python",
   "nbconvert_exporter": "python",
   "pygments_lexer": "ipython3",
   "version": "3.7.6"
  }
 },
 "nbformat": 4,
 "nbformat_minor": 4
}
