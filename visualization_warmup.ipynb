{
 "cells": [
  {
   "cell_type": "markdown",
   "metadata": {},
   "source": [
    "Visualization Warmup\n",
    "\n",
    "1. Copy the following code into a jupyter notebook named visualization_warmup.ipynb\n",
    "\n",
    "    - import matplotlib as mpl\n",
    "    - import matplotlib.pyplot as plt\n",
    "    - import pandas as pd\n",
    "    - import numpy as np\n",
    "\n",
    "url = 'https://gist.githubusercontent.com/zgulde/018f5d601efc79cb741a7aba92f51d29/raw/c08f1c09f605b43e9a354890f9dd68f296e76dc4/students.csv'\n",
    "df = pd.read_csv(url)\n",
    "\n",
    "2. df contains (fake) data on students time at codeup:\n",
    "\n",
    "    - ml_coffee: coffee consumption in milliliters\n",
    "    - syntax_errors: number of syntax errors\n",
    "    - p_days_absent: percentage of days absent\n",
    "\n",
    "3. Create a scatter plot of syntax_errors and ml_coffee. Make sure to give your visual an appropriate title and labels.\n",
    "\n",
    "4. Create a scatter plot of p_days_absent and ml_coffee. Make sure to give your visual an appropriate title and labels.\n",
    "\n",
    "5. Perform any other customizations you think will help to the plots you have created"
   ]
  },
  {
   "cell_type": "code",
   "execution_count": null,
   "metadata": {},
   "outputs": [],
   "source": []
  }
 ],
 "metadata": {
  "kernelspec": {
   "display_name": "Python 3",
   "language": "python",
   "name": "python3"
  },
  "language_info": {
   "codemirror_mode": {
    "name": "ipython",
    "version": 3
   },
   "file_extension": ".py",
   "mimetype": "text/x-python",
   "name": "python",
   "nbconvert_exporter": "python",
   "pygments_lexer": "ipython3",
   "version": "3.7.6"
  }
 },
 "nbformat": 4,
 "nbformat_minor": 4
}
