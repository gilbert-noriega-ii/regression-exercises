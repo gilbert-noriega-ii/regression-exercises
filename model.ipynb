{
 "cells": [
  {
   "cell_type": "markdown",
   "metadata": {},
   "source": [
    "# Model Exercises\n",
    "## Our scenario continues:"
   ]
  },
  {
   "cell_type": "markdown",
   "metadata": {},
   "source": [
    "As a customer analyst, I want to know who has spent the most money with us over their lifetime. I have monthly charges and tenure, so I think I will be able to use those two attributes as features to estimate total_charges. I need to do this within an average of $5.00 per customer."
   ]
  },
  {
   "cell_type": "code",
   "execution_count": 29,
   "metadata": {},
   "outputs": [],
   "source": [
    "import pandas as pd\n",
    "import matplotlib.pyplot as plt\n",
    "import numpy as np\n"
   ]
  },
  {
   "cell_type": "markdown",
   "metadata": {},
   "source": [
    "### Exercise 1\n",
    "Run all your previous scripts that acquired, prepared, split, and scaled the telco churn data."
   ]
  },
  {
   "cell_type": "code",
   "execution_count": 2,
   "metadata": {},
   "outputs": [],
   "source": [
    "from prepare import scale_wrangle_telco"
   ]
  },
  {
   "cell_type": "code",
   "execution_count": 3,
   "metadata": {},
   "outputs": [],
   "source": [
    "train, validate, test = scale_wrangle_telco()"
   ]
  },
  {
   "cell_type": "code",
   "execution_count": 4,
   "metadata": {},
   "outputs": [
    {
     "data": {
      "text/plain": [
       "((1017, 7), (339, 7), (339, 7))"
      ]
     },
     "execution_count": 4,
     "metadata": {},
     "output_type": "execute_result"
    }
   ],
   "source": [
    "train.shape, validate.shape, test.shape"
   ]
  },
  {
   "cell_type": "code",
   "execution_count": 5,
   "metadata": {},
   "outputs": [
    {
     "data": {
      "text/html": [
       "<div>\n",
       "<style scoped>\n",
       "    .dataframe tbody tr th:only-of-type {\n",
       "        vertical-align: middle;\n",
       "    }\n",
       "\n",
       "    .dataframe tbody tr th {\n",
       "        vertical-align: top;\n",
       "    }\n",
       "\n",
       "    .dataframe thead th {\n",
       "        text-align: right;\n",
       "    }\n",
       "</style>\n",
       "<table border=\"1\" class=\"dataframe\">\n",
       "  <thead>\n",
       "    <tr style=\"text-align: right;\">\n",
       "      <th></th>\n",
       "      <th>customer_id</th>\n",
       "      <th>monthly_charges</th>\n",
       "      <th>tenure</th>\n",
       "      <th>total_charges</th>\n",
       "      <th>monthly_charges_scaled</th>\n",
       "      <th>tenure_scaled</th>\n",
       "      <th>total_charges_scaled</th>\n",
       "    </tr>\n",
       "  </thead>\n",
       "  <tbody>\n",
       "    <tr>\n",
       "      <th>1289</th>\n",
       "      <td>7639-LIAYI</td>\n",
       "      <td>79.75</td>\n",
       "      <td>52</td>\n",
       "      <td>4217.8</td>\n",
       "      <td>0.611970</td>\n",
       "      <td>0.722222</td>\n",
       "      <td>0.486477</td>\n",
       "    </tr>\n",
       "    <tr>\n",
       "      <th>941</th>\n",
       "      <td>5709-LVOEQ</td>\n",
       "      <td>80.85</td>\n",
       "      <td>0</td>\n",
       "      <td>0.0</td>\n",
       "      <td>0.622943</td>\n",
       "      <td>0.000000</td>\n",
       "      <td>0.000000</td>\n",
       "    </tr>\n",
       "    <tr>\n",
       "      <th>79</th>\n",
       "      <td>0479-HMSWA</td>\n",
       "      <td>105.45</td>\n",
       "      <td>26</td>\n",
       "      <td>2715.3</td>\n",
       "      <td>0.868329</td>\n",
       "      <td>0.361111</td>\n",
       "      <td>0.313180</td>\n",
       "    </tr>\n",
       "    <tr>\n",
       "      <th>187</th>\n",
       "      <td>1098-KFQEC</td>\n",
       "      <td>19.40</td>\n",
       "      <td>55</td>\n",
       "      <td>1083.0</td>\n",
       "      <td>0.009975</td>\n",
       "      <td>0.763889</td>\n",
       "      <td>0.124912</td>\n",
       "    </tr>\n",
       "    <tr>\n",
       "      <th>986</th>\n",
       "      <td>5970-GHJAW</td>\n",
       "      <td>19.95</td>\n",
       "      <td>46</td>\n",
       "      <td>862.4</td>\n",
       "      <td>0.015461</td>\n",
       "      <td>0.638889</td>\n",
       "      <td>0.099468</td>\n",
       "    </tr>\n",
       "  </tbody>\n",
       "</table>\n",
       "</div>"
      ],
      "text/plain": [
       "     customer_id  monthly_charges  tenure  total_charges  \\\n",
       "1289  7639-LIAYI            79.75      52         4217.8   \n",
       "941   5709-LVOEQ            80.85       0            0.0   \n",
       "79    0479-HMSWA           105.45      26         2715.3   \n",
       "187   1098-KFQEC            19.40      55         1083.0   \n",
       "986   5970-GHJAW            19.95      46          862.4   \n",
       "\n",
       "      monthly_charges_scaled  tenure_scaled  total_charges_scaled  \n",
       "1289                0.611970       0.722222              0.486477  \n",
       "941                 0.622943       0.000000              0.000000  \n",
       "79                  0.868329       0.361111              0.313180  \n",
       "187                 0.009975       0.763889              0.124912  \n",
       "986                 0.015461       0.638889              0.099468  "
      ]
     },
     "execution_count": 5,
     "metadata": {},
     "output_type": "execute_result"
    }
   ],
   "source": [
    "train.head()"
   ]
  },
  {
   "cell_type": "markdown",
   "metadata": {},
   "source": [
    "##### Setting features to evaluate"
   ]
  },
  {
   "cell_type": "code",
   "execution_count": 122,
   "metadata": {},
   "outputs": [],
   "source": [
    "X_train_scaled = train[['monthly_charges_scaled', 'tenure_scaled']]\n",
    "y_train = train[['total_charges']]\n",
    "\n",
    "X_validate_scaled = validate[['monthly_charges_scaled', 'tenure_scaled']]\n",
    "y_validate = validate[['total_charges']]\n",
    "\n",
    "X_test_scaled = test[['monthly_charges_scaled', 'tenure_scaled']]\n",
    "y_test = test[['total_charges']]"
   ]
  },
  {
   "cell_type": "markdown",
   "metadata": {},
   "source": [
    "##### Setting a Baseline"
   ]
  },
  {
   "cell_type": "code",
   "execution_count": 18,
   "metadata": {},
   "outputs": [
    {
     "data": {
      "text/plain": [
       "total_charges    3721.00767\n",
       "dtype: float64"
      ]
     },
     "execution_count": 18,
     "metadata": {},
     "output_type": "execute_result"
    }
   ],
   "source": [
    "np.mean(y_train)"
   ]
  },
  {
   "cell_type": "code",
   "execution_count": 19,
   "metadata": {},
   "outputs": [],
   "source": [
    "from sklearn.metrics import mean_squared_error"
   ]
  },
  {
   "cell_type": "code",
   "execution_count": 36,
   "metadata": {},
   "outputs": [],
   "source": [
    "baseline_rmse = mean_squared_error(y_train, np.full(1017, np.mean(y_train)))**(1/2)"
   ]
  },
  {
   "cell_type": "code",
   "execution_count": 37,
   "metadata": {},
   "outputs": [
    {
     "data": {
      "text/plain": [
       "2598.368817862146"
      ]
     },
     "execution_count": 37,
     "metadata": {},
     "output_type": "execute_result"
    }
   ],
   "source": [
    "baseline_rmse"
   ]
  },
  {
   "cell_type": "markdown",
   "metadata": {},
   "source": [
    "### Exercise 2 and 3\n",
    "- Fit 3 different linear models to your data, one with just tenure, one with just monthly_charges, and one with both.\n",
    "\n",
    "- Evaluate the models and your baseline."
   ]
  },
  {
   "cell_type": "code",
   "execution_count": 38,
   "metadata": {},
   "outputs": [],
   "source": [
    "from sklearn.linear_model import LinearRegression, LassoLars\n",
    "from sklearn.preprocessing import PolynomialFeatures"
   ]
  },
  {
   "cell_type": "markdown",
   "metadata": {},
   "source": [
    "### For both tenure and monthly charges"
   ]
  },
  {
   "cell_type": "markdown",
   "metadata": {},
   "source": [
    "#### Linear Regression"
   ]
  },
  {
   "cell_type": "code",
   "execution_count": 84,
   "metadata": {},
   "outputs": [
    {
     "data": {
      "text/plain": [
       "511.07127883470605"
      ]
     },
     "execution_count": 84,
     "metadata": {},
     "output_type": "execute_result"
    }
   ],
   "source": [
    "lm = LinearRegression(normalize=True)\n",
    "lm.fit(X_train_scaled, y_train)\n",
    "\n",
    "lm_pred = lm.predict(X_train_scaled)\n",
    "\n",
    "lm_rmse = mean_squared_error(y_train, lm_pred)**(1/2)\n",
    "lm_rmse"
   ]
  },
  {
   "cell_type": "markdown",
   "metadata": {},
   "source": [
    "#### LassoLars"
   ]
  },
  {
   "cell_type": "code",
   "execution_count": 85,
   "metadata": {},
   "outputs": [
    {
     "data": {
      "text/plain": [
       "512.4711756636899"
      ]
     },
     "execution_count": 85,
     "metadata": {},
     "output_type": "execute_result"
    }
   ],
   "source": [
    "lars = LassoLars()\n",
    "lars.fit(X_train_scaled, y_train)\n",
    "\n",
    "lars_pred = lars.predict(X_train_scaled)\n",
    "\n",
    "lars_rmse = mean_squared_error(y_train, lars_pred)**(1/2)\n",
    "lars_rmse"
   ]
  },
  {
   "cell_type": "markdown",
   "metadata": {},
   "source": [
    "#### PolynomialFeatures + LinearRegression"
   ]
  },
  {
   "cell_type": "code",
   "execution_count": 136,
   "metadata": {},
   "outputs": [
    {
     "data": {
      "text/plain": [
       "83.39748288389521"
      ]
     },
     "execution_count": 136,
     "metadata": {},
     "output_type": "execute_result"
    }
   ],
   "source": [
    "pf = PolynomialFeatures(degree=2)\n",
    "\n",
    "X_train_squared = pf.fit_transform(X_train_scaled)\n",
    "\n",
    "lm_squared = LinearRegression()\n",
    "lm_squared.fit(X_train_squared, y_train)\n",
    "\n",
    "lm_squared_pred = lm_squared.predict(X_train_squared)\n",
    "\n",
    "lm_squared_rmse = mean_squared_error(y_train, lm_squared_pred)**(1/2)\n",
    "lm_squared_rmse"
   ]
  },
  {
   "cell_type": "markdown",
   "metadata": {},
   "source": [
    "### For tenure only"
   ]
  },
  {
   "cell_type": "code",
   "execution_count": 99,
   "metadata": {},
   "outputs": [],
   "source": [
    "X_train_scaled2 = train[['tenure_scaled']]\n",
    "y_train = train[['total_charges']]"
   ]
  },
  {
   "cell_type": "markdown",
   "metadata": {},
   "source": [
    "#### Linear Regression"
   ]
  },
  {
   "cell_type": "code",
   "execution_count": 88,
   "metadata": {},
   "outputs": [
    {
     "data": {
      "text/plain": [
       "1974.8683708992608"
      ]
     },
     "execution_count": 88,
     "metadata": {},
     "output_type": "execute_result"
    }
   ],
   "source": [
    "lm = LinearRegression(normalize=True)\n",
    "lm.fit(X_train_scaled2, y_train)\n",
    "\n",
    "lm_pred2 = lm.predict(X_train_scaled2)\n",
    "\n",
    "lm_rmse2 = mean_squared_error(y_train, lm_pred2)**(1/2)\n",
    "lm_rmse2"
   ]
  },
  {
   "cell_type": "markdown",
   "metadata": {},
   "source": [
    "#### LassoLars"
   ]
  },
  {
   "cell_type": "code",
   "execution_count": 89,
   "metadata": {},
   "outputs": [
    {
     "data": {
      "text/plain": [
       "1975.12583963106"
      ]
     },
     "execution_count": 89,
     "metadata": {},
     "output_type": "execute_result"
    }
   ],
   "source": [
    "lars = LassoLars()\n",
    "lars.fit(X_train_scaled2, y_train)\n",
    "\n",
    "lars_pred2 = lars.predict(X_train_scaled2)\n",
    "\n",
    "lars_rmse2 = mean_squared_error(y_train, lars_pred2)**(1/2)\n",
    "lars_rmse2"
   ]
  },
  {
   "cell_type": "markdown",
   "metadata": {},
   "source": [
    "#### PolynomialFeatures + LinearRegression"
   ]
  },
  {
   "cell_type": "code",
   "execution_count": 91,
   "metadata": {},
   "outputs": [
    {
     "data": {
      "text/plain": [
       "1919.5907918058483"
      ]
     },
     "execution_count": 91,
     "metadata": {},
     "output_type": "execute_result"
    }
   ],
   "source": [
    "pf = PolynomialFeatures(degree=2)\n",
    "\n",
    "X_train_squared2 = pf.fit_transform(X_train_scaled2)\n",
    "\n",
    "lm_squared2 = LinearRegression()\n",
    "lm_squared2.fit(X_train_squared2, y_train)\n",
    "\n",
    "lm_squared_pred2 = lm_squared2.predict(X_train_squared2)\n",
    "\n",
    "lm_squared_rmse2 = mean_squared_error(y_train, lm_squared_pred2)**(1/2)\n",
    "lm_squared_rmse2"
   ]
  },
  {
   "cell_type": "markdown",
   "metadata": {},
   "source": [
    "### For monthly charges only"
   ]
  },
  {
   "cell_type": "code",
   "execution_count": 98,
   "metadata": {},
   "outputs": [],
   "source": [
    "X_train_scaled3 = train[['monthly_charges_scaled']]\n",
    "y_train = train[['total_charges']]"
   ]
  },
  {
   "cell_type": "markdown",
   "metadata": {},
   "source": [
    "#### Linear Regression"
   ]
  },
  {
   "cell_type": "code",
   "execution_count": 95,
   "metadata": {},
   "outputs": [
    {
     "data": {
      "text/plain": [
       "893.1624857067104"
      ]
     },
     "execution_count": 95,
     "metadata": {},
     "output_type": "execute_result"
    }
   ],
   "source": [
    "lm = LinearRegression(normalize=True)\n",
    "lm.fit(X_train_scaled3, y_train)\n",
    "\n",
    "lm_pred3 = lm.predict(X_train_scaled3)\n",
    "\n",
    "lm_rmse3 = mean_squared_error(y_train, lm_pred3)**(1/2)\n",
    "lm_rmse3"
   ]
  },
  {
   "cell_type": "markdown",
   "metadata": {},
   "source": [
    "#### LassoLars"
   ]
  },
  {
   "cell_type": "code",
   "execution_count": 96,
   "metadata": {},
   "outputs": [
    {
     "data": {
      "text/plain": [
       "893.7316296706689"
      ]
     },
     "execution_count": 96,
     "metadata": {},
     "output_type": "execute_result"
    }
   ],
   "source": [
    "lars = LassoLars()\n",
    "lars.fit(X_train_scaled3, y_train)\n",
    "\n",
    "lars_pred3 = lars.predict(X_train_scaled3)\n",
    "\n",
    "lars_rmse3 = mean_squared_error(y_train, lars_pred3)**(1/2)\n",
    "lars_rmse3"
   ]
  },
  {
   "cell_type": "markdown",
   "metadata": {},
   "source": [
    "#### PolynomialFeatures + LinearRegression"
   ]
  },
  {
   "cell_type": "code",
   "execution_count": 97,
   "metadata": {},
   "outputs": [
    {
     "data": {
      "text/plain": [
       "879.3199637506586"
      ]
     },
     "execution_count": 97,
     "metadata": {},
     "output_type": "execute_result"
    }
   ],
   "source": [
    "pf = PolynomialFeatures(degree=2)\n",
    "\n",
    "X_train_squared3 = pf.fit_transform(X_train_scaled3)\n",
    "\n",
    "lm_squared3 = LinearRegression()\n",
    "lm_squared3.fit(X_train_squared3, y_train)\n",
    "\n",
    "lm_squared_pred3 = lm_squared3.predict(X_train_squared3)\n",
    "\n",
    "lm_squared_rmse3 = mean_squared_error(y_train, lm_squared_pred3)**(1/2)\n",
    "lm_squared_rmse3"
   ]
  },
  {
   "cell_type": "markdown",
   "metadata": {},
   "source": [
    "### Exercise 4\n",
    "Select the model that performed the best, and evaluate it with your validate data."
   ]
  },
  {
   "cell_type": "code",
   "execution_count": 156,
   "metadata": {
    "scrolled": true
   },
   "outputs": [
    {
     "data": {
      "text/plain": [
       "86.73562782170887"
      ]
     },
     "execution_count": 156,
     "metadata": {},
     "output_type": "execute_result"
    }
   ],
   "source": [
    "pf = PolynomialFeatures(degree=2)\n",
    "\n",
    "X_train_squared = pf.fit_transform(X_train_scaled)\n",
    "X_validate_squared = pf.transform(X_validate_scaled)\n",
    "\n",
    "lm_squared = LinearRegression()\n",
    "lm_squared.fit(X_train_squared, y_train)\n",
    "\n",
    "lm_squared_pred = lm_squared.predict(X_validate_squared)\n",
    "\n",
    "lm_squared_rmse = mean_squared_error(y_validate, lm_squared_pred)**(1/2)\n",
    "lm_squared_rmse"
   ]
  },
  {
   "cell_type": "markdown",
   "metadata": {},
   "source": [
    "### Exercise 6\n",
    "Select the model w/ the best performance and evaluate that one on test, to get a more clear understanding of how it will perform on out-of-sample data."
   ]
  },
  {
   "cell_type": "code",
   "execution_count": 157,
   "metadata": {},
   "outputs": [
    {
     "data": {
      "text/plain": [
       "87.29666535375304"
      ]
     },
     "execution_count": 157,
     "metadata": {},
     "output_type": "execute_result"
    }
   ],
   "source": [
    "pf = PolynomialFeatures(degree=2)\n",
    "\n",
    "X_train_squared = pf.fit_transform(X_train_scaled)\n",
    "X_test_squared = pf.transform(X_test_scaled)\n",
    "\n",
    "lm_squared = LinearRegression()\n",
    "lm_squared.fit(X_train_squared, y_train)\n",
    "\n",
    "lm_squared_pred = lm_squared.predict(X_test_squared)\n",
    "\n",
    "lm_squared_rmse = mean_squared_error(y_test, lm_squared_pred)**(1/2)\n",
    "lm_squared_rmse"
   ]
  },
  {
   "cell_type": "code",
   "execution_count": 166,
   "metadata": {},
   "outputs": [],
   "source": [
    "def linearReg_train(X_train, y_train):\n",
    "    lm = LinearRegression(normalize=True)\n",
    "    lm.fit(X_train, y_train)\n",
    "\n",
    "    lm_pred = lm.predict(X_train)\n",
    "\n",
    "    lm_rmse = mean_squared_error(y_train, lm_pred)**(1/2)\n",
    "    return lm_rmse"
   ]
  },
  {
   "cell_type": "code",
   "execution_count": 167,
   "metadata": {},
   "outputs": [],
   "source": [
    "def linearReg_test(X_train, y_train, X_val_test, y_val_test):\n",
    "    lm = LinearRegression(normalize=True)\n",
    "    lm.fit(X_train, y_train)\n",
    "    \n",
    "    lm_pred = lm.predict(X_val_test)\n",
    "\n",
    "    lm_rmse = mean_squared_error(y_val_test, lm_pred)**(1/2)\n",
    "    return lm_rmse"
   ]
  },
  {
   "cell_type": "code",
   "execution_count": 168,
   "metadata": {},
   "outputs": [],
   "source": [
    "def lassoLars_train(X_train, y_train, alpha = 1):\n",
    "    lars = LassoLars(alpha)\n",
    "    lars.fit(X_train, y_train)\n",
    "\n",
    "    lars_pred = lars.predict(X_train)\n",
    "\n",
    "    lars_rmse = mean_squared_error(y_train, lars_pred)**(1/2)\n",
    "    return lars_rmse"
   ]
  },
  {
   "cell_type": "code",
   "execution_count": 169,
   "metadata": {},
   "outputs": [],
   "source": [
    "def lassoLars_test(X_train, y_train, X_val_test, y_val_test, alpha = 1):\n",
    "    lars = LassoLars(alpha)\n",
    "    \n",
    "    lars.fit(X_train, y_train)\n",
    "    lars_pred = lars.predict(X_val_test)\n",
    "\n",
    "    lars_rmse = mean_squared_error(y_val_test, lars_pred)**(1/2)\n",
    "    return lars_rmse"
   ]
  },
  {
   "cell_type": "code",
   "execution_count": 170,
   "metadata": {},
   "outputs": [],
   "source": [
    "def poly_linearReg_train(X_train, y_train, degrees):\n",
    "    pf = PolynomialFeatures(degree=degrees)\n",
    "\n",
    "    X_train_squared = pf.fit_transform(X_train)\n",
    "\n",
    "    lm_squared = LinearRegression()\n",
    "    lm_squared.fit(X_train_squared, y_train)\n",
    "\n",
    "    lm_squared_pred = lm_squared.predict(X_train_squared)\n",
    "\n",
    "    lm_squared_rmse = mean_squared_error(y_train, lm_squared_pred)**(1/2)\n",
    "    return lm_squared_rmse"
   ]
  },
  {
   "cell_type": "code",
   "execution_count": 171,
   "metadata": {},
   "outputs": [],
   "source": [
    "def poly_linearReg_test(X_train, y_train, X_val_test, y_val_test, degrees):\n",
    "    pf = PolynomialFeatures(degree=degrees)\n",
    "    \n",
    "    X_train_squared = pf.fit_transform(X_train)\n",
    "    X_val_test_squared = pf.transform(X_val_test)\n",
    "\n",
    "    lm_squared = LinearRegression()\n",
    "    lm_squared.fit(X_train_squared, y_train)\n",
    "\n",
    "    lm_squared_pred = lm_squared.predict(X_val_test_squared)\n",
    "\n",
    "    lm_squared_rmse = mean_squared_error(y_val_test, lm_squared_pred)**(1/2)\n",
    "    return lm_squared_rmse"
   ]
  },
  {
   "cell_type": "code",
   "execution_count": null,
   "metadata": {},
   "outputs": [],
   "source": []
  }
 ],
 "metadata": {
  "kernelspec": {
   "display_name": "Python 3",
   "language": "python",
   "name": "python3"
  },
  "language_info": {
   "codemirror_mode": {
    "name": "ipython",
    "version": 3
   },
   "file_extension": ".py",
   "mimetype": "text/x-python",
   "name": "python",
   "nbconvert_exporter": "python",
   "pygments_lexer": "ipython3",
   "version": "3.7.6"
  }
 },
 "nbformat": 4,
 "nbformat_minor": 4
}
